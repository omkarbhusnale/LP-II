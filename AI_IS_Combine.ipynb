{
  "cells": [
    {
      "cell_type": "markdown",
      "metadata": {
        "id": "EKyEg9S_Q7hZ"
      },
      "source": [
        "<Center>\n",
        "    <h1>Assignment 1</h1>\n",
        "</Center>"
      ]
    },
    {
      "cell_type": "code",
      "execution_count": 5,
      "metadata": {
        "colab": {
          "base_uri": "https://localhost:8080/"
        },
        "id": "VC0V2rIvQ7hk",
        "outputId": "d12c8163-7873-42b4-88b5-23f4cb378a6c"
      },
      "outputs": [
        {
          "name": "stdout",
          "output_type": "stream",
          "text": [
            "Bfs: \n",
            "0\n",
            "1\n",
            "2\n",
            "3\n",
            "4\n",
            "5\n",
            "\n",
            "Dfs: \n",
            "1  \n",
            "0  \n",
            "2  \n",
            "3  \n",
            "4  \n",
            "5  \n"
          ]
        }
      ],
      "source": [
        "# BFS and DFS\n",
        "\n",
        "def bfs(graph, root):\n",
        "    v1 = set()\n",
        "    q = []\n",
        "    q.append(root)\n",
        "    q.extend(graph[root])\n",
        "\n",
        "    while q:\n",
        "        v2 = q.pop(0)\n",
        "        if v2 not in v1:\n",
        "            v1.add(v2)\n",
        "            print(v2)\n",
        "        for adj in graph[v2]:\n",
        "            if adj not in v1:\n",
        "                q.append(adj)\n",
        "                \n",
        "\n",
        "def dfs(visited, graph, root):\n",
        "    if root not in visited:\n",
        "        visited.add(root)\n",
        "        print(root, \" \")\n",
        "\n",
        "        for adj in graph[root]:\n",
        "            dfs(visited, graph, adj)\n",
        "\n",
        "\n",
        "# graph = { 1: [3, 2], 2: [1, 4],  3: [1], 4: [2] }\n",
        "graph = {0: [1, 2, 3], 1: [0], 2: [0, 3, 4, 5], 3: [0, 2], 4: [2, 5], 5: [2, 4]}\n",
        "visited = set() \n",
        "\n",
        "print(\"Bfs: \")\n",
        "bfs(graph, 0)\n",
        "print()\n",
        "print(\"Dfs: \")\n",
        "dfs(visited, graph, 1)\n"
      ]
    },
    {
      "cell_type": "markdown",
      "metadata": {
        "id": "MhyT8xK2Q7hs"
      },
      "source": [
        "<Center>\n",
        "    <h1>Assignment 2</h1>\n",
        "</Center>"
      ]
    },
    {
      "cell_type": "code",
      "execution_count": 1,
      "metadata": {
        "id": "msjIaeijQ7hw"
      },
      "outputs": [
        {
          "name": "stdout",
          "output_type": "stream",
          "text": [
            "Output:\n",
            "HlodeorlWl|\n"
          ]
        }
      ],
      "source": [
        "import math\n",
        "\n",
        " \n",
        "def main():\n",
        "    message = input(\"Enter message: \")\n",
        "    key = int(input(\"Enter key [2-%s]: \" % (len(message) - 1)))\n",
        "    mode = input(\"Encryption/Decryption [e/d]: \")\n",
        " \n",
        "    if mode.lower().startswith(\"e\"):\n",
        "        text = encryptMessage(key, message)\n",
        "    elif mode.lower().startswith(\"d\"):\n",
        "        text = decryptMessage(key, message)\n",
        " \n",
        "    print(\"Output:\\n%s\" % (text + \"|\"))\n",
        " \n",
        " \n",
        "def encryptMessage(key, message):\n",
        "    cipherText = [\"\"] * key\n",
        "    for col in range(key):\n",
        "        pointer = col\n",
        "        while pointer < len(message):\n",
        "            cipherText[col] += message[pointer]\n",
        "            pointer += key\n",
        "    return \"\".join(cipherText)\n",
        " \n",
        " \n",
        "def decryptMessage(key, message):\n",
        "    numCols = math.ceil(len(message) / key)\n",
        "    numRows = key\n",
        "    numShadedBoxes = (numCols * numRows) - len(message)\n",
        "    plainText = [\"\"] * numCols\n",
        "    col = 0\n",
        "    row = 0\n",
        " \n",
        "    for symbol in message:\n",
        "        plainText[col] += symbol\n",
        "        col += 1\n",
        " \n",
        "        if (\n",
        "            (col == numCols)\n",
        "            or (col == numCols - 1)\n",
        "            and (row >= numRows - numShadedBoxes)\n",
        "        ):\n",
        "            col = 0\n",
        "            row += 1\n",
        " \n",
        "    return \"\".join(plainText)\n",
        " \n",
        " \n",
        "if __name__ == \"__main__\":\n",
        "    import doctest\n",
        " \n",
        "    doctest.testmod()\n",
        "    main()"
      ]
    },
    {
      "cell_type": "markdown",
      "metadata": {
        "id": "_LGdTfA6Q7h0"
      },
      "source": [
        "<Center>\n",
        "    <h1>Assignment 3</h1>\n",
        "</Center>"
      ]
    },
    {
      "cell_type": "code",
      "execution_count": 6,
      "metadata": {
        "colab": {
          "base_uri": "https://localhost:8080/"
        },
        "id": "0_JfoLawQ7h2",
        "outputId": "f4f11764-6875-4722-8ed0-075d2ba0f150"
      },
      "outputs": [
        {
          "name": "stdout",
          "output_type": "stream",
          "text": [
            "Path found: ['A', 'F', 'G', 'I', 'J']\n"
          ]
        },
        {
          "data": {
            "text/plain": [
              "['A', 'F', 'G', 'I', 'J']"
            ]
          },
          "execution_count": 6,
          "metadata": {},
          "output_type": "execute_result"
        }
      ],
      "source": [
        "# A Star Algorithm\n",
        "\n",
        "def aStarAlgo(start_node, stop_node):\n",
        "    open_set = set(start_node)\n",
        "    closed_set = set()\n",
        "    g = {}\n",
        "    parents = {} \n",
        "\n",
        "    g[start_node] = 0\n",
        "\n",
        "    parents[start_node] = start_node\n",
        "    while len(open_set) > 0:\n",
        "        n = None\n",
        "\n",
        "        for v in open_set:\n",
        "            if n == None or g[v] + heuristic(v) < g[n] + heuristic(n):\n",
        "                n = v\n",
        "        if n == stop_node or Graph_nodes[n] == None:\n",
        "            pass\n",
        "        else:\n",
        "            for (m, weight) in get_neighbors(n):\n",
        "               \n",
        "                if m not in open_set and m not in closed_set:\n",
        "                    open_set.add(m)\n",
        "                    parents[m] = n\n",
        "                    g[m] = g[n] + weight\n",
        "                else:\n",
        "                    if g[m] > g[n] + weight:\n",
        "                        g[m] = g[n] + weight\n",
        "                        parents[m] = n\n",
        "                        if m in closed_set:\n",
        "                            closed_set.remove(m)\n",
        "                            open_set.add(m)\n",
        "        if n == None:\n",
        "            print('Path does not exist!')\n",
        "            return None\n",
        "        \n",
        "        if n == stop_node:\n",
        "            path = []\n",
        "            while parents[n] != n:\n",
        "                path.append(n)\n",
        "                n = parents[n]\n",
        "            path.append(start_node)\n",
        "            path.reverse()\n",
        "            print('Path found: {}'.format(path))\n",
        "            return path\n",
        "\n",
        "        open_set.remove(n)\n",
        "        closed_set.add(n)\n",
        "    print('Path does not exist!')\n",
        "    return None\n",
        "\n",
        "def get_neighbors(v):\n",
        "    if v in Graph_nodes:\n",
        "        return Graph_nodes[v]\n",
        "    else:\n",
        "        return None\n",
        "\n",
        "def heuristic(n):\n",
        "    H_dist = {\n",
        "        'A': 11,\n",
        "        'B': 6,\n",
        "        'C': 5,\n",
        "        'D': 7,\n",
        "        'E': 3,\n",
        "        'F': 6,\n",
        "        'G': 5,\n",
        "        'H': 3,\n",
        "        'I': 1,\n",
        "        'J': 0\n",
        "    }\n",
        "    return H_dist[n]\n",
        "\n",
        "#Describe your graph here\n",
        "Graph_nodes = {\n",
        "    'A': [('B', 6), ('F', 3)],\n",
        "    'B': [('A', 6), ('C', 3), ('D', 2)],\n",
        "    'C': [('B', 3), ('D', 1), ('E', 5)],\n",
        "    'D': [('B', 2), ('C', 1), ('E', 8)],\n",
        "    'E': [('C', 5), ('D', 8), ('I', 5), ('J', 5)],\n",
        "    'F': [('A', 3), ('G', 1), ('H', 7)],\n",
        "    'G': [('F', 1), ('I', 3)],\n",
        "    'H': [('F', 7), ('I', 2)],\n",
        "    'I': [('E', 5), ('G', 3), ('H', 2), ('J', 3)],\n",
        "}\n",
        "\n",
        "aStarAlgo('A', 'J')"
      ]
    },
    {
      "cell_type": "markdown",
      "metadata": {
        "id": "MksQk_LIQ7h4"
      },
      "source": [
        "<Center>\n",
        "    <h1>Assignment 4</h1>\n",
        "</Center>"
      ]
    },
    {
      "cell_type": "code",
      "execution_count": null,
      "metadata": {
        "id": "qKcWuow2Q7h5",
        "outputId": "eae7f678-6ed9-4bec-b764-990a6084d911"
      },
      "outputs": [
        {
          "name": "stdout",
          "output_type": "stream",
          "text": [
            "n = 143\n",
            "\n",
            "Phi (n) : 120\n",
            "\n",
            "Choose `e` :\n",
            "\n",
            "[7, 13, 17, 23, 31, 37, 43, 47, 53, 61, 67, 73, 77, 83, 91, 97, 103, 107, 113]\n",
            "\n",
            "\n",
            "Public key e = 31, n = 143\n",
            "Private key d = 31, n = 143\n",
            "Encrypted Message:  O\u0015k\u0014r \n",
            "\n",
            "Decrypted Message: Omkar\n",
            "\n"
          ]
        }
      ],
      "source": [
        "# RSA Algorithm\n",
        "\n",
        "def gcd(a, b): \n",
        "    while b != 0:\n",
        "        c = a % b\n",
        "        a = b\n",
        "        b = c\n",
        "    return a\n",
        "\n",
        "# calculates modulo inverse of a for mod m \n",
        "def modinv(a, m): \n",
        "    for x in range(1, m):\n",
        "        if (a * x) % m == 1:\n",
        "            return x\n",
        "    return None\n",
        "\n",
        "# calculates all possible co-prime numbers with a\n",
        "def coprimes(a): \n",
        "    l = []\n",
        "    for x in range(2, a):\n",
        "        if gcd(a, x) == 1 and modinv(x, phi) != None:\n",
        "            l.append(x)\n",
        "    for x in l:\n",
        "        if x == modinv(x, phi):\n",
        "            l.remove(x)\n",
        "    return l\n",
        " \n",
        "# encrypts a single block\n",
        "def encrypt_block(m): \n",
        "    c = m ** e % n\n",
        "    return c\n",
        "\n",
        "# decrypts a single block\n",
        "def decrypt_block(c): \n",
        "    m = c ** d % n\n",
        "    return m\n",
        "\n",
        "# applies encryption\n",
        "def encrypt_string(s): \n",
        "    return ''.join([chr(encrypt_block(ord(x))) for x in list(s)])\n",
        "\n",
        "# applies decryption\n",
        "def decrypt_string(s): \n",
        "    return ''.join([chr(decrypt_block(ord(x))) for x in list(s)])\n",
        "\n",
        "\n",
        "p = int(input('p : '))\n",
        "q = int(input('q : '))\n",
        "\n",
        "n = p * q\n",
        "print(\"n = \" + str(n) + \"\\n\")\n",
        "\n",
        "phi = (p - 1) * (q - 1)\n",
        "print(\"Phi (n) : \" + str(phi) + \"\\n\")\n",
        "\n",
        "\n",
        "print(\"Choose `e` :\\n\")\n",
        "print(str(coprimes(phi)) + \"\\n\")\n",
        "\n",
        "e = int(input(\"Enter e : \"))\n",
        "\n",
        "# calculates the decryption key d\n",
        "d = modinv(e, phi)\n",
        "print(\"\\nPublic key e = \" + str(e) + \", n = \" + str(n))\n",
        "print(\"Private key d = \" + str(d) + \", n = \" + str(n))\n",
        "\n",
        "s = input(\"\\nMessage : \")\n",
        "\n",
        "enc = encrypt_string(s)\n",
        "print(\"Encrypted Message: \", enc, \"\\n\")\n",
        "\n",
        "dec = decrypt_string(enc)\n",
        "print(\"Decrypted Message: \" + dec + \"\\n\")"
      ]
    },
    {
      "cell_type": "markdown",
      "metadata": {
        "id": "sB6wOC0oQ7h8"
      },
      "source": [
        "<Center>\n",
        "    <h1>Assignment 5</h1>\n",
        "</Center>"
      ]
    },
    {
      "cell_type": "code",
      "execution_count": null,
      "metadata": {
        "id": "c1ZVYnnUQ7h9"
      },
      "outputs": [],
      "source": [
        "# Greedy Search Methods\n",
        "\n",
        "\n",
        "# Selection Sort\n",
        "def selection():\n",
        "\tA = [64, 25, 12, 22, 11]\n",
        "\tn = len(A)\n",
        "\n",
        "\tfor i in range(len(A)):\n",
        "\t\t\n",
        "\t\tmin_idx = i\n",
        "\t\tfor j in range(i+1, len(A)):\n",
        "\t\t\tif A[min_idx] > A[j]:\n",
        "\t\t\t\tmin_idx = j\t\n",
        "\t\tA[i], A[min_idx] = A[min_idx], A[i]\n",
        "\n",
        "\t# Driver code to test above\n",
        "\tprint(A)\n",
        "\n",
        "selection()\n",
        "\n",
        "\n",
        "\n",
        "# Dijkstra\n",
        "\n",
        "import sys\n",
        "class Graph():\n",
        "\tdef _init_(self, vertices):\n",
        "\t\tself.V = vertices\n",
        "\t\tself.graph = [[0 for column in range(vertices)]\n",
        "\t\t\t\t\tfor row in range(vertices)]\n",
        "\t\t\t\t\t\n",
        "\tdef printSolution(self, dist):\n",
        "\t\tprint(\"Vertex \\tDistance from Source\")\n",
        "\t\tfor node in range(self.V):\n",
        "\t\t\tprint(node, \"\\t\", dist[node])\n",
        "\n",
        "\tdef minDistance(self, dist, sptSet):\n",
        "\t\tmin = sys.maxsize\n",
        "\t\tfor u in range(self.V):\n",
        "\t\t\tif dist[u] < min and sptSet[u] == False:\n",
        "\t\t\t\tmin = dist[u]\n",
        "\t\t\t\tmin_index = u\n",
        "\t\treturn min_index\n",
        "\n",
        "\tdef dijkstra(self, src):\n",
        "\t\tdist = [sys.maxsize] * self.V\n",
        "\t\tdist[src] = 0\n",
        "\t\tsptSet = [False] * self.V\n",
        "\t\tfor cout in range(self.V):\n",
        "\t\t\tx = self.minDistance(dist, sptSet)\n",
        "\t\t\tsptSet[x] = True\n",
        "\t\t\tfor y in range(self.V):\n",
        "\t\t\t\tif self.graph[x][y] > 0 and sptSet[y] == False and \\\n",
        "\t\t\t\tdist[y] > dist[x] + self.graph[x][y]:\n",
        "\t\t\t\t\t\tdist[y] = dist[x] + self.graph[x][y]\n",
        "\t\tself.printSolution(dist)\n",
        "\n",
        "\n",
        "g = Graph(9)\n",
        "g.graph=[[0, 2, 0, 0, 0, 0, 0, 8, 0],\n",
        "\t\t[2, 0, 8, 0, 0, 0, 0, 11, 0],\n",
        "\t\t[0, 8, 0, 7, 0, 4, 0, 0, 2],\n",
        "\t\t[0, 0, 7, 0, 9, 14, 0, 0, 0],\n",
        "\t\t[0, 0, 0, 9, 0, 10, 0, 0, 0],\n",
        "\t\t[0, 0, 4, 14, 10, 0, 2, 0, 0],\n",
        "\t\t[0, 0, 0, 0, 0, 2, 0, 1, 6],\n",
        "\t\t[8, 11, 0, 0, 0, 0, 1, 0, 7],\n",
        "\t\t[0, 0, 2, 0, 0, 0, 6, 7, 0]\n",
        "\t\t]\n",
        "\n",
        "g.dijkstra(0)"
      ]
    },
    {
      "cell_type": "markdown",
      "metadata": {
        "id": "PjzUQORwQ7h_"
      },
      "source": [
        "<Center>\n",
        "    <h1>Assignment 6</h1>\n",
        "</Center>"
      ]
    },
    {
      "cell_type": "code",
      "execution_count": 25,
      "metadata": {
        "colab": {
          "base_uri": "https://localhost:8080/"
        },
        "id": "Bi3V-zNQQ7iA",
        "outputId": "138aaf70-4f1d-4646-ef07-6f6b6cc2ae55"
      },
      "outputs": [
        {
          "name": "stdout",
          "output_type": "stream",
          "text": [
            "Encrypted: b'\\xd6V\\xf2\\xffW\\x16\\xda\\xa8r\\x12\\x9bi\\xce\\xect\\x93\\xef\\t4\\xf4!\\xc2\\x91\\x8dA\\xf3\\x0b\\x10\\xfc\\x97\\xcf\\xb2'\n",
            "Decrypted: b'DES Algorithm Implementation'\n"
          ]
        }
      ],
      "source": [
        "# DES Key Encryption And Decryption Using Python Crypto Package\n",
        "\n",
        "# !pip install base32hex\n",
        "# !pip install pyDes\n",
        "# !pip install pycrypto\n",
        "\n",
        "import base32hex\n",
        "import hashlib\n",
        "from Crypto.Cipher import DES\n",
        "import pyDes\n",
        "\n",
        "\n",
        "# password = \"Password\"\n",
        "# salt = '\\x28\\xAB\\xBC\\xCD\\xDE\\xEF\\x00\\x33'\n",
        "# key = password + salt\n",
        "# m = hashlib.md5(key)\n",
        "\n",
        "# key = m.digest()\n",
        "# (dk, iv) =(key[:8], key[8:])\n",
        "# crypter = DES.new(dk, DES.MODE_CBC, iv)\n",
        "\n",
        "# plain_text= \"I see you\"\n",
        "\n",
        "# print(\"The plain text is : \",plain_text)\n",
        "# plain_text += '\\x00' * (8 - len(plain_text) % 8)\n",
        "\n",
        "# ciphertext = crypter.encrypt(plain_text)\n",
        "# encode_string= base32hex.b32encode(ciphertext)\n",
        "# print(\"The encoded string is : \",encode_string)\n",
        "\n",
        "# decrypted_string = crypter.decrypt(ciphertext)\n",
        "# print(\"The decrypted string is : \",decrypted_string)\n",
        "\n",
        "\n",
        "# ---------------------------------------------------------- #\n",
        "\n",
        "data = \"DES Algorithm Implementation\"\n",
        "k = pyDes.des(\"DESCRYPT\", pyDes.CBC, \"\\0\\0\\0\\0\\0\\0\\0\\0\", pad=None, padmode=pyDes.PAD_PKCS5)\n",
        "d = k.encrypt(data)\n",
        "\n",
        "print (\"Encrypted: {0}\".format(d))\n",
        "print (\"Decrypted: {0}\".format(k.decrypt(d)))\n",
        "# k.decrypt(d) == data\n",
        "\n"
      ]
    },
    {
      "cell_type": "markdown",
      "metadata": {
        "id": "CsJSQYJ-Q7iD"
      },
      "source": [
        "<Center>\n",
        "    <h1>Assignment 7</h1>\n",
        "</Center>"
      ]
    },
    {
      "cell_type": "code",
      "execution_count": null,
      "metadata": {
        "id": "JmadXscSQ7iD",
        "outputId": "f448724c-8485-4702-8cfe-ffa511e15fc8"
      },
      "outputs": [
        {
          "name": "stdout",
          "output_type": "stream",
          "text": [
            "- Q - - \n",
            "- - - Q \n",
            "Q - - - \n",
            "- - Q - \n"
          ]
        }
      ],
      "source": [
        "# N Queen \n",
        "\n",
        "def queen(n):\n",
        "    def backTrack(i):\n",
        "        if i == n:\n",
        "            result.append(list(board))\n",
        "            \n",
        "        \n",
        "        for j in range(n):\n",
        "\n",
        "            if j not in column and j-i not in diagonal and j+i not in ofDiagonal:\n",
        "                column.add(j)\n",
        "                diagonal.add(j-i)\n",
        "                ofDiagonal.add(j+i)\n",
        "                board.append(\"-\" * j + \"Q\" + \"-\" * (n-j-1))\n",
        "                backTrack(i+1)\n",
        "                \n",
        "                column.remove(j)\n",
        "                diagonal.remove(j-i)\n",
        "                ofDiagonal.remove(j+i)\n",
        "                board.pop()\n",
        "                \n",
        "    result = []\n",
        "    board = []\n",
        "    column = set()\n",
        "    diagonal = set()\n",
        "    ofDiagonal = set()\n",
        "\n",
        "    backTrack(0)\n",
        "    return result\n",
        "\n",
        "\n",
        "v1 = int(input(\"Enter Num: \"))\n",
        "v2 = queen(v1)\n",
        "# for p in v2:\n",
        "#     for i in p:\n",
        "#         for j in i:\n",
        "#             print(j, end=\" \")\n",
        "#         print()\n",
        "#     print(\"\\n\")\n",
        "\n",
        "for i in v2[0]:\n",
        "    for j in i:\n",
        "        print(j,end=\" \")\n",
        "    print()"
      ]
    },
    {
      "cell_type": "markdown",
      "metadata": {
        "id": "FXa1RbTFQ7iD"
      },
      "source": [
        "<Center>\n",
        "    <h1>Assignment 8</h1>\n",
        "</Center>"
      ]
    },
    {
      "cell_type": "code",
      "execution_count": 28,
      "metadata": {
        "colab": {
          "base_uri": "https://localhost:8080/"
        },
        "id": "XDXjxT_DQ7iF",
        "outputId": "b3545e78-5791-4aa4-95cf-2df8d6b5d888"
      },
      "outputs": [
        {
          "name": "stdout",
          "output_type": "stream",
          "text": [
            "Collecting pycryptodomex\n",
            "  Downloading pycryptodomex-3.14.1-cp35-abi3-manylinux2010_x86_64.whl (2.0 MB)\n",
            "\u001b[K     |████████████████████████████████| 2.0 MB 18.0 MB/s \n",
            "\u001b[?25hInstalling collected packages: pycryptodomex\n",
            "Successfully installed pycryptodomex-3.14.1\n",
            "Encryption key: b'584491d42d12489c889ca994eb9bd106a9abd693d2ac364c4659965bb29271f6'\n",
            "encryptedMsg {'ciphertext': b'68449952973a7d90e7ee70', 'aesIV': b'b195c8026e8c4d059aeccad2a3da7857', 'authTag': b'1b1343ea28c62c367740b7c3f3c7cb67'}\n",
            "decryptedMsg b'hello world'\n"
          ]
        }
      ],
      "source": [
        "# AES Encryption Algorithm\n",
        "# !pip install pycryptodomex\n",
        "\n",
        "from Cryptodome.Cipher import AES\n",
        "import binascii, os\n",
        "\n",
        "def encrypt_AES_GCM(msg, secretKey):\n",
        "    aesCipher = AES.new(secretKey, AES.MODE_GCM)\n",
        "    ciphertext, authTag = aesCipher.encrypt_and_digest(msg)\n",
        "    return (ciphertext, aesCipher.nonce, authTag)\n",
        "\n",
        "def decrypt_AES_GCM(encryptedMsg, secretKey):\n",
        "    (ciphertext, nonce, authTag) = encryptedMsg\n",
        "    aesCipher = AES.new(secretKey, AES.MODE_GCM, nonce)\n",
        "    plaintext = aesCipher.decrypt_and_verify(ciphertext, authTag)\n",
        "    return plaintext\n",
        "\n",
        "# 256-bit random encryption key\n",
        "secretKey = os.urandom(32)\n",
        "print(\"Encryption key:\", binascii.hexlify(secretKey))\n",
        "\n",
        "msg = b'hello world'\n",
        "encryptedMsg = encrypt_AES_GCM(msg, secretKey)\n",
        "\n",
        "print(\"encryptedMsg\", { 'ciphertext': binascii.hexlify(encryptedMsg[0]),\n",
        "                        'aesIV': binascii.hexlify(encryptedMsg[1]),\n",
        "                        'authTag': binascii.hexlify(encryptedMsg[2])\n",
        "})\n",
        "\n",
        "decryptedMsg = decrypt_AES_GCM(encryptedMsg, secretKey)\n",
        "print(\"decryptedMsg\", decryptedMsg)\n"
      ]
    },
    {
      "cell_type": "markdown",
      "metadata": {
        "id": "6q276wIHQ7iP"
      },
      "source": [
        "<Center>\n",
        "    <h1>Assignment 9</h1>\n",
        "</Center>"
      ]
    },
    {
      "cell_type": "code",
      "execution_count": null,
      "metadata": {
        "id": "Y1mk0oCAQ7iP",
        "outputId": "48e854f3-7c13-471f-bb32-c4b69207ee3a"
      },
      "outputs": [
        {
          "name": "stdout",
          "output_type": "stream",
          "text": [
            "Hello! My name is Shadow.\n",
            "I was created in 2022.\n",
            "Please, Tell me what is your name. \n",
            "What a great name you have, Omkar!\n",
            "Let me guess your age. \n",
            "Enter remainders of dividing your age by 3, 5 and 7.\n",
            "Your age is 21 that's a good time to start programming!\n",
            "Now I will prove to you that I can count to any number you want.\n",
            "0 !\n",
            "1 !\n",
            "2 !\n",
            "3 !\n",
            "Let's test your programming knowledge.\n",
            "Why do we use methods?\n",
            "1. To repeat a statement multiple times.\n",
            "2. To decompose a program into several small subroutines.\n",
            "3. To determine the execution time of a program.\n",
            "4. To interrupt the execution of a program.\n",
            ".................................\n",
            "Congratulations, have a nice day!\n",
            ".................................\n"
          ]
        }
      ],
      "source": [
        "# Chat Bot\n",
        "\n",
        "def greet(bot_name, birth_year):\n",
        "    print(\"Hello! My name is {0}.\".format(bot_name))\n",
        "    print(\"I was created in {0}.\".format(birth_year))\n",
        "\n",
        "\n",
        "def remind_name():\n",
        "    print('Please, Tell me what is your name. ')\n",
        "    name = input()\n",
        "    print(\"What a great name you have, {0}!\".format(name))\n",
        "\n",
        "\n",
        "def guess_age():\n",
        "    print('Let me guess your age. ')\n",
        "    print('Enter remainders of dividing your age by 3, 5 and 7.')\n",
        "    rem3 = int(input())\n",
        "    rem5 = int(input())\n",
        "    rem7 = int(input())\n",
        "    age = (rem3 * 70 + rem5 * 21 + rem7 * 15) % 105\n",
        "    print(\"Your age is {0} that's a good time to start programming!\".format(age))\n",
        "\n",
        "\n",
        "def count():\n",
        "    print('Now I will prove to you that I can count to any number you want.')\n",
        "    num = int(input())\n",
        "    counter = 0\n",
        "    while counter <= num:\n",
        "        print(\"{0} !\".format(counter))\n",
        "        counter += 1\n",
        "\n",
        "\n",
        "def test():\n",
        "    print(\"Let's test your programming knowledge.\")\n",
        "    print(\"Why do we use methods?\")\n",
        "    print(\"1. To repeat a statement multiple times.\")\n",
        "    print(\"2. To decompose a program into several small subroutines.\")\n",
        "    print(\"3. To determine the execution time of a program.\")\n",
        "    print(\"4. To interrupt the execution of a program.\")\n",
        "    answer = 2\n",
        "    guess = int(input())\n",
        "    while guess != answer:\n",
        "        print(\"Please, try again.\")\n",
        "        guess = int(input())\n",
        "        print('.................................')\n",
        "        print('Completed, have a nice day!')\n",
        "        print('.................................')\n",
        "def end():\n",
        "    print('.................................')\n",
        "    print('Congratulations, have a nice day!')\n",
        "    print('.................................')\n",
        "    # input()\n",
        "\n",
        "greet('Shadow', '2022')\n",
        "remind_name()\n",
        "guess_age()\n",
        "count()\n",
        "test()\n",
        "end()"
      ]
    },
    {
      "cell_type": "markdown",
      "metadata": {
        "id": "ghkn5tQAQ7iR"
      },
      "source": [
        "<Center>\n",
        "    <h1>Assignment 10</h1>\n",
        "</Center>"
      ]
    },
    {
      "cell_type": "code",
      "execution_count": null,
      "metadata": {
        "id": "vNAZDK1yQ7iS",
        "outputId": "6c5e746f-17e5-4a63-e996-9835a47aee6b"
      },
      "outputs": [
        {
          "name": "stdout",
          "output_type": "stream",
          "text": [
            "MD5 Hash : b'\\xa5\\x12\\xf1b\\x1f\\x0cY)%\\xbcz\\xfb(\\x01\\xd9\\xbe'\n"
          ]
        }
      ],
      "source": [
        "  \n",
        "import hashlib\n",
        "\n",
        "result = hashlib.md5(b'Omkar')\n",
        "  \n",
        "print(\"MD5 Hash : \", end =\"\")\n",
        "print(result.digest())"
      ]
    }
  ],
  "metadata": {
    "colab": {
      "collapsed_sections": [],
      "name": "Combine Run.ipynb",
      "provenance": []
    },
    "interpreter": {
      "hash": "cee0df92ca07fef7b350674b817dc9512aef909e52b2bbb492ce44f05ad7e4a4"
    },
    "kernelspec": {
      "display_name": "Python 3.9.12 64-bit (windows store)",
      "language": "python",
      "name": "python3"
    },
    "language_info": {
      "codemirror_mode": {
        "name": "ipython",
        "version": 3
      },
      "file_extension": ".py",
      "mimetype": "text/x-python",
      "name": "python",
      "nbconvert_exporter": "python",
      "pygments_lexer": "ipython3",
      "version": "3.9.13"
    },
    "orig_nbformat": 4
  },
  "nbformat": 4,
  "nbformat_minor": 0
}
